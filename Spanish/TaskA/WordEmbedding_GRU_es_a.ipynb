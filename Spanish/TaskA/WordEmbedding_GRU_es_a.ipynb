{
  "nbformat": 4,
  "nbformat_minor": 0,
  "metadata": {
    "colab": {
      "name": "WordEmbedding-GRU_es_a.ipynb",
      "version": "0.3.2",
      "provenance": [],
      "collapsed_sections": []
    },
    "kernelspec": {
      "name": "python3",
      "display_name": "Python 3"
    },
    "accelerator": "GPU"
  },
  "cells": [
    {
      "metadata": {
        "id": "QL28WSHoBsfp",
        "colab_type": "code",
        "outputId": "58031ff2-1616-4b66-f383-174ff66d1181",
        "colab": {
          "base_uri": "https://localhost:8080/",
          "height": 34
        }
      },
      "cell_type": "code",
      "source": [
        "# -*- coding: utf-8 -*-\n",
        "\n",
        "#@author: alison\n",
        "\n",
        "import re\n",
        "import string\n",
        "import pickle\n",
        "import keras\n",
        "import nltk\n",
        "import numpy as np\n",
        "import pandas as pd\n",
        "from nltk.corpus import stopwords\n",
        "from nltk.stem import PorterStemmer, SnowballStemmer\n",
        "from nltk.tokenize import TweetTokenizer\n",
        "from sklearn.model_selection import train_test_split\n",
        "from keras.preprocessing.text import Tokenizer\n",
        "from keras.preprocessing import sequence\n",
        "from keras.models import Model\n",
        "from keras.layers import Dense, Dropout, Embedding, GRU\n",
        "from keras.layers import Input, Activation\n",
        "from keras.optimizers import Adam, SGD, RMSprop\n",
        "from keras import optimizers\n",
        "from keras import regularizers"
      ],
      "execution_count": 1,
      "outputs": [
        {
          "output_type": "stream",
          "text": [
            "Using TensorFlow backend.\n"
          ],
          "name": "stderr"
        }
      ]
    },
    {
      "metadata": {
        "id": "XdekfYsoV2c2",
        "colab_type": "code",
        "outputId": "6dc7079c-d1f0-4fd2-c9d0-90fd233889c6",
        "colab": {
          "base_uri": "https://localhost:8080/",
          "height": 70
        }
      },
      "cell_type": "code",
      "source": [
        "import nltk\n",
        "nltk.download('stopwords')"
      ],
      "execution_count": 2,
      "outputs": [
        {
          "output_type": "stream",
          "text": [
            "[nltk_data] Downloading package stopwords to /root/nltk_data...\n",
            "[nltk_data]   Package stopwords is already up-to-date!\n"
          ],
          "name": "stdout"
        },
        {
          "output_type": "execute_result",
          "data": {
            "text/plain": [
              "True"
            ]
          },
          "metadata": {
            "tags": []
          },
          "execution_count": 2
        }
      ]
    },
    {
      "metadata": {
        "id": "-TpI0dMJEi6p",
        "colab_type": "code",
        "colab": {}
      },
      "cell_type": "code",
      "source": [
        "!pip install -U -q PyDrive\n",
        " \n",
        "from pydrive.auth import GoogleAuth\n",
        "from pydrive.drive import GoogleDrive\n",
        "from google.colab import auth\n",
        "from oauth2client.client import GoogleCredentials\n",
        " \n",
        "# 1. Authenticate and create the PyDrive client.\n",
        "auth.authenticate_user()\n",
        "gauth = GoogleAuth()\n",
        "gauth.credentials = GoogleCredentials.get_application_default()\n",
        "drive = GoogleDrive(gauth)"
      ],
      "execution_count": 0,
      "outputs": []
    },
    {
      "metadata": {
        "id": "XEfvBz8IEqrO",
        "colab_type": "code",
        "outputId": "0bc42eac-14f0-4182-8800-6e62e4dd7918",
        "colab": {
          "base_uri": "https://localhost:8080/",
          "height": 390
        }
      },
      "cell_type": "code",
      "source": [
        "file_list = drive.ListFile({'q': \"'1Hx5OP1Yrlh37yYzSMtsv6Ui_fuzOuG04' in parents and trashed=false\"}).GetList()\n",
        "for file1 in file_list:\n",
        "    print('title: %s, id: %s' % (file1['title'], file1['id']))"
      ],
      "execution_count": 4,
      "outputs": [
        {
          "output_type": "stream",
          "text": [
            "title: WordEmbedding-GRU_es_a.ipynb, id: 1ahrxlOEINVnCp05yCjmLx8b4v-5SSGL6\n",
            "title: bi_lstm_es_a.ipynb, id: 12E3oKtx2N9XPUqK2XXqxMHmxK2EpYdAA\n",
            "title: lstm_es_a.ipynb, id: 1yZRPqV6WKQ8OeNwcfpQwj0jqiIMehAHK\n",
            "title: gru_es_a.ipynb, id: 11DtYTZbYyKHgTFIMXhy8Y4I7c3_0z_W0\n",
            "title: CNN_en_a.ipynb, id: 19oqoK5aiZrBvFOPN1v89xNcXLevjJY0s\n",
            "title: WordEmbedding-biLSTM_en_a.ipynb, id: 1JOBvoH52NYgevXOGS-K5Cw4ggR4VYWZP\n",
            "title: SelfAttention-biLSTM_en_a.ipynb, id: 1wh-yg27fq8OWwO8Jj-Oy47leYf9ujX7U\n",
            "title: WordEmbedding-LSTM_en_a.ipynb, id: 1S_nrY6BmP5Bd6jTGwGLhhQW_W6ZZK6Tf\n",
            "title: WordEmbedding-GRU_en_a.ipynb, id: 1fcw8EGX2Hdz-tTbz0NDEhZlOHiPvKNsY\n",
            "title: bi_lstm_en_a.ipynb, id: 1O-dGg5mtIxPsI4JY16dcp4ytezzN5NQZ\n",
            "title: lstm_en_a.ipynb, id: 1w3Rq-g3l6u5SsBoXoNcKeciE0YUMLJcP\n",
            "title: gru_en_a.ipynb, id: 1qHxV1RB5vy_M889397xa1Ep4kEx_9RIa\n",
            "title: CNN_es_a.ipynb, id: 1UDY2L6Ap8rqV0HtWw9tnLICN4MUD3Nno\n",
            "title: WordEmbedding-biLSTM_es_a.ipynb, id: 14eSqh0xSpcRJXYwU8Qkv9eJaSW_dt3zb\n",
            "title: WordEmbedding-LSTM_es_a.ipynb, id: 16FhVQWB5WvbRXDGkDgsLJWOTqyKwaDwb\n",
            "title: dev_es.tsv, id: 1EC9OkjN6PR5RqehcYXoci7dsuXmlMA0f\n",
            "title: train_es.tsv, id: 18OJPw3-c99gT1XgKZRXCkI_7xexnBV3z\n",
            "title: trial_es.tsv, id: 1lwuVtwkeYCoBn4wsOEwq1Y1gBe4sazaS\n",
            "title: train_en.tsv, id: 1TIjlRkVNIvM8NL3P-4UAmMY6moF3mff0\n",
            "title: dev_en.tsv, id: 1QqOc_95fjvjbw7-uYT37veooqMzfYn-p\n",
            "title: trial_en.tsv, id: 1rQ4h1lQi12lyAo2VL7xuUR5iZ9Bsa4MR\n"
          ],
          "name": "stdout"
        }
      ]
    },
    {
      "metadata": {
        "id": "h2hLjMJyE3dR",
        "colab_type": "code",
        "colab": {}
      },
      "cell_type": "code",
      "source": [
        "train_downloaded = drive.CreateFile({'id': '18OJPw3-c99gT1XgKZRXCkI_7xexnBV3z'})\n",
        "train_downloaded.GetContentFile('train_es.tsv')\n",
        "test_downloaded = drive.CreateFile({'id': '1EC9OkjN6PR5RqehcYXoci7dsuXmlMA0f'})\n",
        "test_downloaded.GetContentFile('dev_es.tsv')\n",
        "trial_downloaded = drive.CreateFile({'id': '1lwuVtwkeYCoBn4wsOEwq1Y1gBe4sazaS'})\n",
        "trial_downloaded.GetContentFile('trial_es.tsv')"
      ],
      "execution_count": 0,
      "outputs": []
    },
    {
      "metadata": {
        "id": "0s3Dnnk8FF4j",
        "colab_type": "code",
        "colab": {}
      },
      "cell_type": "code",
      "source": [
        "train = pd.read_csv('train_es.tsv', delimiter='\\t',encoding='utf-8')\n",
        "dev = pd.read_csv('dev_es.tsv', delimiter='\\t',encoding='utf-8')\n",
        "#trial = pd.read_csv('trial_es.tsv', delimiter='\\t',encoding='utf-8')"
      ],
      "execution_count": 0,
      "outputs": []
    },
    {
      "metadata": {
        "id": "lrslbThJCeSY",
        "colab_type": "code",
        "colab": {}
      },
      "cell_type": "code",
      "source": [
        "# Etapa de pré-processamento\n",
        "\n",
        "def clean_tweets(tweet):\n",
        "    tweet = re.sub('@(\\\\w{1,15})\\b', '', tweet)\n",
        "    tweet = tweet.replace(\"via \", \"\")\n",
        "    tweet = tweet.replace(\"RT \", \"\")\n",
        "    tweet = tweet.lower()\n",
        "    return tweet\n",
        "    \n",
        "def clean_url(tweet):\n",
        "    tweet = re.sub('http\\\\S+', '', tweet, flags=re.MULTILINE)   \n",
        "    return tweet\n",
        "    \n",
        "def remove_stop_words(tweet):\n",
        "    stops = set(stopwords.words(\"spanish\"))\n",
        "    stops.update(['.',',','\"',\"'\",'?',':',';','(',')','[',']','{','}'])\n",
        "    toks = [tok for tok in tweet if not tok in stops and len(tok) >= 3]\n",
        "    return toks\n",
        "    \n",
        "def stemming_tweets(tweet):\n",
        "    stemmer = SnowballStemmer('spanish')\n",
        "    stemmed_words = [stemmer.stem(word) for word in tweet]\n",
        "    return stemmed_words\n",
        "\n",
        "def remove_number(tweet):\n",
        "    newTweet = re.sub('\\\\d+', '', tweet)\n",
        "    return newTweet\n",
        "\n",
        "def remove_hashtags(tweet):\n",
        "    result = ''\n",
        "\n",
        "    for word in tweet.split():\n",
        "        if word.startswith('#') or word.startswith('@'):\n",
        "            result += word[1:]\n",
        "            result += ' '\n",
        "        else:\n",
        "            result += word\n",
        "            result += ' '\n",
        "\n",
        "    return result"
      ],
      "execution_count": 0,
      "outputs": []
    },
    {
      "metadata": {
        "id": "QDsnLDRQGl71",
        "colab_type": "code",
        "colab": {}
      },
      "cell_type": "code",
      "source": [
        "def preprocessing(tweet, swords = True, url = True, stemming = True, ctweets = True, number = True, hashtag = True):\n",
        "\n",
        "    if ctweets:\n",
        "        tweet = clean_tweets(tweet)\n",
        "\n",
        "    if url:\n",
        "        tweet = clean_url(tweet)\n",
        "\n",
        "    if hashtag:\n",
        "        tweet = remove_hashtags(tweet)\n",
        "    \n",
        "    twtk = TweetTokenizer(strip_handles=True, reduce_len=True)\n",
        "\n",
        "    if number:\n",
        "        tweet = remove_number(tweet)\n",
        "    \n",
        "    tokens = [w.lower() for w in twtk.tokenize(tweet) if w != \"\" and w is not None]\n",
        "\n",
        "    if swords:\n",
        "        tokens = remove_stop_words(tokens)\n",
        "\n",
        "    if stemming:\n",
        "        tokens = stemming_tweets(tokens)\n",
        "\n",
        "    text = \" \".join(tokens)\n",
        "\n",
        "    return text"
      ],
      "execution_count": 0,
      "outputs": []
    },
    {
      "metadata": {
        "id": "SunHFjyyFLR3",
        "colab_type": "code",
        "colab": {}
      },
      "cell_type": "code",
      "source": [
        "train_text  = train['text'].map(lambda x: preprocessing(x, swords = True, url = True, stemming = False, ctweets = True, number = False, hashtag = False))\n",
        "y_train  = train['HS']\n",
        "id_train = train['id']\n",
        "\n",
        "test_text  = dev['text'].map(lambda x: preprocessing(x, swords = True, url = True, stemming = False, ctweets = True, number = False, hashtag = False))\n",
        "y_test  = dev['HS']\n",
        "id_test = dev['id']\n",
        "\n",
        "data = np.concatenate((train_text, test_text), axis=0)\n",
        "classes = np.concatenate((y_train, y_test), axis=0)"
      ],
      "execution_count": 0,
      "outputs": []
    },
    {
      "metadata": {
        "id": "zdMmsNxqM8S4",
        "colab_type": "code",
        "colab": {}
      },
      "cell_type": "code",
      "source": [
        "word_embedding_dim = 300\n",
        "max_features = 25000\n",
        "maxlen = 100\n",
        "batch_size = 32\n",
        "epochs = 5\n",
        "\n",
        "# Treina um tokenizaddor nos dados de treino\n",
        "tokenizer = Tokenizer(num_words=max_features)\n",
        "tokenizer.fit_on_texts(data)\n",
        "\n",
        "# Tokeniza os dados\n",
        "X = tokenizer.texts_to_sequences(data)\n",
        "Y = tokenizer.texts_to_sequences(test_text)\n",
        "\n",
        "tweets = sequence.pad_sequences(X, maxlen=maxlen)\n",
        "x_test = sequence.pad_sequences(Y, maxlen=maxlen)\n",
        "\n",
        "word_index = tokenizer.word_index"
      ],
      "execution_count": 0,
      "outputs": []
    },
    {
      "metadata": {
        "id": "pTZGv8lcWGIU",
        "colab_type": "code",
        "colab": {}
      },
      "cell_type": "code",
      "source": [
        "x_train, x_val, y_train, y_val = train_test_split(tweets, classes, test_size=0.25, random_state=None)"
      ],
      "execution_count": 0,
      "outputs": []
    },
    {
      "metadata": {
        "id": "OPki5CvtNG-i",
        "colab_type": "code",
        "colab": {}
      },
      "cell_type": "code",
      "source": [
        "num_words = min(max_features, len(word_index) + 1)"
      ],
      "execution_count": 0,
      "outputs": []
    },
    {
      "metadata": {
        "id": "ruveMxQ0NJ4F",
        "colab_type": "code",
        "colab": {}
      },
      "cell_type": "code",
      "source": [
        "from tqdm import tqdm"
      ],
      "execution_count": 0,
      "outputs": []
    },
    {
      "metadata": {
        "id": "_lFa0GNANKaw",
        "colab_type": "code",
        "outputId": "c5b9029c-637c-4f96-a8a3-958dd7cf0006",
        "colab": {
          "base_uri": "https://localhost:8080/",
          "height": 141
        }
      },
      "cell_type": "code",
      "source": [
        "file_list = drive.ListFile({'q': \"'1sBKK1i4JXIluelnAPqjOU4xVIIPA3Vmy' in parents and trashed=false\"}).GetList()\n",
        "for file1 in file_list:\n",
        "    print('title: %s, id: %s' % (file1['title'], file1['id']))"
      ],
      "execution_count": 14,
      "outputs": [
        {
          "output_type": "stream",
          "text": [
            "title: GoogleNews-word2vec-300_en.bin, id: 1bERzzLRCcPdavQYVJCwLvt8uWmiRdg_o\n",
            "title: glove-300d_es.vec, id: 167op9mvIKVfH1XGm3dkZ7afHReiqvmIN\n",
            "title: glove.6B.300d_en.txt, id: 1FRfAM3GouOxelBo_gwj5n4YNWDMP6CkL\n",
            "title: wiki_fasttext_es.vec, id: 1S1ObfL0R15IzRK_T1RrSxZMn0TJDECsN\n",
            "title: wiki_fasttext_en.vec, id: 18zPA_9tWmlNZChdfMKHTp0Ka1SQsnkj9\n",
            "title: TaskA, id: 1Hx5OP1Yrlh37yYzSMtsv6Ui_fuzOuG04\n",
            "title: TaskB, id: 1JsHac7_mxx_M8BapYSzcDKnzl4M9e1Yb\n"
          ],
          "name": "stdout"
        }
      ]
    },
    {
      "metadata": {
        "id": "cwYMHLiwOLvO",
        "colab_type": "code",
        "colab": {}
      },
      "cell_type": "code",
      "source": [
        "we = {'id': '167op9mvIKVfH1XGm3dkZ7afHReiqvmIN', 'file': 'glove-300d_es.vec'}\n",
        "#we = {'id': '1S1ObfL0R15IzRK_T1RrSxZMn0TJDECsN', 'file': 'wiki_fasttext_es.vec'}"
      ],
      "execution_count": 0,
      "outputs": []
    },
    {
      "metadata": {
        "id": "x2WBRPz3NRLk",
        "colab_type": "code",
        "colab": {}
      },
      "cell_type": "code",
      "source": [
        "word_vector = drive.CreateFile({'id': we['id']})\n",
        "word_vector.GetContentFile(we['file'])"
      ],
      "execution_count": 0,
      "outputs": []
    },
    {
      "metadata": {
        "id": "PL3T-Qg2NUM2",
        "colab_type": "code",
        "colab": {}
      },
      "cell_type": "code",
      "source": [
        "def word_embeddings(word_index, num_words, word_embedding_dim):\n",
        "    embeddings_index = {}\n",
        "    \n",
        "    f = open(we['file'], 'r', encoding='utf-8')\n",
        "    \n",
        "    for line in tqdm(f):\n",
        "        values = line.rstrip().rsplit(' ')\n",
        "        word = values[0]\n",
        "        coefs = np.asarray(values[1:], dtype='float32')\n",
        "        embeddings_index[word] = coefs\n",
        "    \n",
        "    f.close()\n",
        "\n",
        "    embedding_matrix = np.zeros((num_words, word_embedding_dim))\n",
        "    \n",
        "    for word, i in word_index.items():\n",
        "        if i >= max_features:\n",
        "            continue\n",
        "        \n",
        "        embedding_vector = embeddings_index.get(word)\n",
        "        \n",
        "        if embedding_vector is not None:\n",
        "            embedding_matrix[i] = embedding_vector\n",
        "\n",
        "    return embedding_matrix"
      ],
      "execution_count": 0,
      "outputs": []
    },
    {
      "metadata": {
        "id": "TkJ_dzMrNYaa",
        "colab_type": "code",
        "outputId": "ebb4fafb-73f7-409f-842f-8f4caa0e23ba",
        "colab": {
          "base_uri": "https://localhost:8080/",
          "height": 34
        }
      },
      "cell_type": "code",
      "source": [
        "weights_embedding_matrix = word_embeddings(word_index, num_words, word_embedding_dim)"
      ],
      "execution_count": 30,
      "outputs": [
        {
          "output_type": "stream",
          "text": [
            "855381it [01:11, 11992.63it/s]\n"
          ],
          "name": "stderr"
        }
      ]
    },
    {
      "metadata": {
        "id": "BawjLqxwNcwS",
        "colab_type": "code",
        "outputId": "a1ede8e9-346a-49a2-ef19-d6f12077772d",
        "colab": {
          "base_uri": "https://localhost:8080/",
          "height": 550
        }
      },
      "cell_type": "code",
      "source": [
        "# Fase de classificação de sentimentos\n",
        "\n",
        "tweet_input = Input(shape=(maxlen,), dtype='int32')\n",
        "\n",
        "embedding = Embedding(num_words, word_embedding_dim, input_length=maxlen, weights=[weights_embedding_matrix], trainable=True)(tweet_input)\n",
        "\n",
        "gru1 = GRU(256, activation='relu', dropout=0.2, recurrent_dropout=0.1, kernel_initializer='normal', return_sequences=True)(embedding)\n",
        "\n",
        "gru2 = GRU(256, activation='relu')(gru1)\n",
        "\n",
        "dens = Dense(256, activation='relu')(gru2)\n",
        "\n",
        "output = Dense(1, activation='sigmoid')(dens)\n",
        "\n",
        "model = Model(inputs=tweet_input, outputs=output)\n",
        "\n",
        "#opt = Adam(lr=0.001, beta_1=0.9, beta_2=0.825, epsilon=1e-08)\n",
        "#opt = SGD(lr=0.01, momentum=0.0, decay=0.0, nesterov=False)\n",
        "opt = RMSprop(lr=0.001, rho=0.9, epsilon=None, decay=0.01)\n",
        "\n",
        "model.compile(optimizer=opt, loss='binary_crossentropy', metrics=['accuracy'])\n",
        "\n",
        "model.summary()\n",
        "\n",
        "model.fit(x_train, y_train, batch_size=batch_size, epochs=epochs, validation_split=0.20)\n",
        "\n",
        "y_pred = (model.predict(x_test, batch_size=batch_size) > .5).astype(int)"
      ],
      "execution_count": 31,
      "outputs": [
        {
          "output_type": "stream",
          "text": [
            "_________________________________________________________________\n",
            "Layer (type)                 Output Shape              Param #   \n",
            "=================================================================\n",
            "input_2 (InputLayer)         (None, 100)               0         \n",
            "_________________________________________________________________\n",
            "embedding_2 (Embedding)      (None, 100, 300)          4477800   \n",
            "_________________________________________________________________\n",
            "gru_3 (GRU)                  (None, 100, 256)          427776    \n",
            "_________________________________________________________________\n",
            "gru_4 (GRU)                  (None, 256)               393984    \n",
            "_________________________________________________________________\n",
            "dense_3 (Dense)              (None, 256)               65792     \n",
            "_________________________________________________________________\n",
            "dense_4 (Dense)              (None, 1)                 257       \n",
            "=================================================================\n",
            "Total params: 5,365,609\n",
            "Trainable params: 5,365,609\n",
            "Non-trainable params: 0\n",
            "_________________________________________________________________\n",
            "Train on 2980 samples, validate on 746 samples\n",
            "Epoch 1/5\n",
            "2980/2980 [==============================] - 40s 13ms/step - loss: 0.5975 - acc: 0.6889 - val_loss: 0.5963 - val_acc: 0.6635\n",
            "Epoch 2/5\n",
            "2980/2980 [==============================] - 39s 13ms/step - loss: 0.4700 - acc: 0.7889 - val_loss: 0.4918 - val_acc: 0.7587\n",
            "Epoch 3/5\n",
            "2980/2980 [==============================] - 39s 13ms/step - loss: 0.3896 - acc: 0.8336 - val_loss: 0.5389 - val_acc: 0.7560\n",
            "Epoch 4/5\n",
            "2980/2980 [==============================] - 39s 13ms/step - loss: 0.3399 - acc: 0.8537 - val_loss: 0.4848 - val_acc: 0.7668\n",
            "Epoch 5/5\n",
            "2980/2980 [==============================] - 38s 13ms/step - loss: 0.2991 - acc: 0.8698 - val_loss: 0.5245 - val_acc: 0.7855\n"
          ],
          "name": "stdout"
        }
      ]
    },
    {
      "metadata": {
        "id": "rx8QHLaNWgdn",
        "colab_type": "code",
        "outputId": "c04e54cd-066d-404c-8126-b4733e75adc7",
        "colab": {
          "base_uri": "https://localhost:8080/",
          "height": 87
        }
      },
      "cell_type": "code",
      "source": [
        "from sklearn.metrics import f1_score, precision_score, accuracy_score, recall_score\n",
        "\n",
        "print(\"F1.........: %f\" %(f1_score(y_test, y_pred, average=\"macro\")))\n",
        "print(\"Precision..: %f\" %(precision_score(y_test, y_pred, average=\"macro\")))\n",
        "print(\"Recall.....: %f\" %(recall_score(y_test, y_pred, average=\"macro\")))\n",
        "print(\"Accuracy...: %f\" %(accuracy_score(y_test, y_pred)))"
      ],
      "execution_count": 32,
      "outputs": [
        {
          "output_type": "stream",
          "text": [
            "F1.........: 0.836677\n",
            "Precision..: 0.835744\n",
            "Recall.....: 0.838437\n",
            "Accuracy...: 0.838000\n"
          ],
          "name": "stdout"
        }
      ]
    },
    {
      "metadata": {
        "id": "4DpgoxpT88nK",
        "colab_type": "code",
        "outputId": "e9141659-e0b6-4f30-ab59-a5899b1fe72c",
        "colab": {
          "base_uri": "https://localhost:8080/",
          "height": 34
        }
      },
      "cell_type": "code",
      "source": [
        "output = []\n",
        "for array in y_pred:\n",
        "    output.append(array[0])\n",
        "print(len(output), len(id_test))"
      ],
      "execution_count": 33,
      "outputs": [
        {
          "output_type": "stream",
          "text": [
            "500 500\n"
          ],
          "name": "stdout"
        }
      ]
    },
    {
      "metadata": {
        "id": "2IJCgb0J9Aza",
        "colab_type": "code",
        "colab": {}
      },
      "cell_type": "code",
      "source": [
        "from google.colab import files\n",
        "\n",
        "with open(\"es_a.tsv\", \"w\") as file:\n",
        "    for i in range(len(y_pred)):\n",
        "        file.write(str(id_test[i]))\n",
        "        file.write('\\t')\n",
        "        file.write(str(output[i]))\n",
        "        file.write('\\n')\n",
        "\n",
        "files.download('es_a.tsv')"
      ],
      "execution_count": 0,
      "outputs": []
    }
  ]
}