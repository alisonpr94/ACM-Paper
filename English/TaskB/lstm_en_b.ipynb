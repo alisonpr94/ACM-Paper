{
  "nbformat": 4,
  "nbformat_minor": 0,
  "metadata": {
    "colab": {
      "name": "lstm_en_b.ipynb",
      "version": "0.3.2",
      "provenance": [],
      "collapsed_sections": []
    },
    "kernelspec": {
      "name": "python3",
      "display_name": "Python 3"
    },
    "accelerator": "GPU"
  },
  "cells": [
    {
      "metadata": {
        "id": "QL28WSHoBsfp",
        "colab_type": "code",
        "outputId": "880f1162-bc93-47bb-b5e9-8700a720d8e8",
        "colab": {
          "base_uri": "https://localhost:8080/",
          "height": 34
        }
      },
      "cell_type": "code",
      "source": [
        "# -*- coding: utf-8 -*-\n",
        "\n",
        "#@author: alison\n",
        "\n",
        "import re\n",
        "import string\n",
        "import pickle\n",
        "import keras\n",
        "import nltk\n",
        "import numpy as np\n",
        "import pandas as pd\n",
        "from nltk.corpus import stopwords\n",
        "from nltk.stem import PorterStemmer, SnowballStemmer\n",
        "from nltk.tokenize import TweetTokenizer\n",
        "from sklearn.model_selection import train_test_split\n",
        "from keras.preprocessing.text import Tokenizer\n",
        "from keras.preprocessing import sequence\n",
        "from keras.models import Model\n",
        "from keras.layers import Dense, Dropout, Embedding, CuDNNLSTM\n",
        "from keras.layers import Input, GlobalAveragePooling1D\n",
        "from keras.layers import Activation, LSTM\n",
        "from keras.optimizers import Adam, SGD, RMSprop\n",
        "from keras import optimizers\n",
        "from keras import regularizers"
      ],
      "execution_count": 1,
      "outputs": [
        {
          "output_type": "stream",
          "text": [
            "Using TensorFlow backend.\n"
          ],
          "name": "stderr"
        }
      ]
    },
    {
      "metadata": {
        "id": "XdekfYsoV2c2",
        "colab_type": "code",
        "outputId": "16fa0172-53fa-44cc-90fa-0b4c38219fd2",
        "colab": {
          "base_uri": "https://localhost:8080/",
          "height": 70
        }
      },
      "cell_type": "code",
      "source": [
        "import nltk\n",
        "nltk.download('stopwords')"
      ],
      "execution_count": 2,
      "outputs": [
        {
          "output_type": "stream",
          "text": [
            "[nltk_data] Downloading package stopwords to /root/nltk_data...\n",
            "[nltk_data]   Package stopwords is already up-to-date!\n"
          ],
          "name": "stdout"
        },
        {
          "output_type": "execute_result",
          "data": {
            "text/plain": [
              "True"
            ]
          },
          "metadata": {
            "tags": []
          },
          "execution_count": 2
        }
      ]
    },
    {
      "metadata": {
        "id": "-TpI0dMJEi6p",
        "colab_type": "code",
        "colab": {}
      },
      "cell_type": "code",
      "source": [
        "!pip install -U -q PyDrive\n",
        " \n",
        "from pydrive.auth import GoogleAuth\n",
        "from pydrive.drive import GoogleDrive\n",
        "from google.colab import auth\n",
        "from oauth2client.client import GoogleCredentials\n",
        " \n",
        "# 1. Authenticate and create the PyDrive client.\n",
        "auth.authenticate_user()\n",
        "gauth = GoogleAuth()\n",
        "gauth.credentials = GoogleCredentials.get_application_default()\n",
        "drive = GoogleDrive(gauth)"
      ],
      "execution_count": 0,
      "outputs": []
    },
    {
      "metadata": {
        "id": "XEfvBz8IEqrO",
        "colab_type": "code",
        "outputId": "63aedd13-3a25-4e52-be0e-c217f0ec717a",
        "colab": {
          "base_uri": "https://localhost:8080/",
          "height": 247
        }
      },
      "cell_type": "code",
      "source": [
        "file_list = drive.ListFile({'q': \"'1JsHac7_mxx_M8BapYSzcDKnzl4M9e1Yb' in parents and trashed=false\"}).GetList()\n",
        "for file1 in file_list:\n",
        "    print('title: %s, id: %s' % (file1['title'], file1['id']))"
      ],
      "execution_count": 4,
      "outputs": [
        {
          "output_type": "stream",
          "text": [
            "title: lstm_en_b.ipynb, id: 1n63dDEnPeqMTASzhwnaDnG_8knVqmIkX\n",
            "title: gru_en_b.ipynb, id: 1l3cd4flv4i1iOwKjLdnDb5082nNkqvYe\n",
            "title: bi_lstm_en_b.ipynb, id: 19N0cZ6WKYpnTfDVgKn1i-4UzLEN4jmSK\n",
            "title: WordEmbedding_GRU_en_b.ipynb, id: 1f87RaAgRU_RYsrSXZoHMu7ylpMv__0IV\n",
            "title: CNN_en_b.ipynb, id: 1Y4-iz6jsFtExSbQu4Iw0Rdwz23cAcZA2\n",
            "title: WordEmbedding_biLSTM_en_b.ipynb, id: 1Fhw6KwvnKCgzkAuZtDGhCXUs3CGfAYNS\n",
            "title: WordEmbedding_LSTM_en_b.ipynb, id: 1F3PAN94OKvfELzEPdCrqFsUVLDlwpcib\n",
            "title: test_en.tsv, id: 1Z-kJ95PF2VZiGAn_5Piyovk8SZ-bYQJv\n",
            "title: test_es.tsv, id: 1PlU_aDjY9RLq2CKW1zMQTDmRDcZ0f8YL\n",
            "title: train_en.tsv, id: 1tv4kRZtCJu7F4WtkBvaMWZMXZZDYF-yv\n",
            "title: dev_en.tsv, id: 116R1Q_P_m75ZagpkE7cZXfXHiDSDwrJy\n",
            "title: train_es.tsv, id: 18SENOaqh8YZ98vrzHgHP3sQk3sycMz0H\n",
            "title: dev_es.tsv, id: 1S5cZDZq7Mhmxpp_SUs79j86An3ICs265\n"
          ],
          "name": "stdout"
        }
      ]
    },
    {
      "metadata": {
        "id": "h2hLjMJyE3dR",
        "colab_type": "code",
        "colab": {}
      },
      "cell_type": "code",
      "source": [
        "train_downloaded = drive.CreateFile({'id': '1tv4kRZtCJu7F4WtkBvaMWZMXZZDYF-yv'})\n",
        "train_downloaded.GetContentFile('train_en.tsv')\n",
        "dev_downloaded = drive.CreateFile({'id': '116R1Q_P_m75ZagpkE7cZXfXHiDSDwrJy'})\n",
        "dev_downloaded.GetContentFile('dev_en.tsv')\n",
        "test_downloaded = drive.CreateFile({'id': '1Z-kJ95PF2VZiGAn_5Piyovk8SZ-bYQJv'})\n",
        "test_downloaded.GetContentFile('test_en.tsv')"
      ],
      "execution_count": 0,
      "outputs": []
    },
    {
      "metadata": {
        "id": "0s3Dnnk8FF4j",
        "colab_type": "code",
        "colab": {}
      },
      "cell_type": "code",
      "source": [
        "train = pd.read_csv('train_en.tsv', delimiter='\\t',encoding='utf-8')\n",
        "dev = pd.read_csv('dev_en.tsv', delimiter='\\t',encoding='utf-8')\n",
        "#test = pd.read_csv('test.tsv', delimiter='\\t',encoding='utf-8')"
      ],
      "execution_count": 0,
      "outputs": []
    },
    {
      "metadata": {
        "id": "lrslbThJCeSY",
        "colab_type": "code",
        "colab": {}
      },
      "cell_type": "code",
      "source": [
        "# Etapa de pré-processamento\n",
        "\n",
        "def clean_tweets(tweet):\n",
        "    tweet = re.sub('@(\\\\w{1,15})\\b', '', tweet)\n",
        "    tweet = tweet.replace(\"via \", \"\")\n",
        "    tweet = tweet.replace(\"RT \", \"\")\n",
        "    tweet = tweet.lower()\n",
        "    return tweet\n",
        "    \n",
        "def clean_url(tweet):\n",
        "    tweet = re.sub('http\\\\S+', '', tweet, flags=re.MULTILINE)   \n",
        "    return tweet\n",
        "    \n",
        "def remove_stop_words(tweet):\n",
        "    stops = set(stopwords.words(\"english\"))\n",
        "    stops.update(['.',',','\"',\"'\",'?',':',';','(',')','[',']','{','}'])\n",
        "    toks = [tok for tok in tweet if not tok in stops and len(tok) >= 3]\n",
        "    return toks\n",
        "    \n",
        "def stemming_tweets(tweet):\n",
        "    stemmer = SnowballStemmer('english')\n",
        "    stemmed_words = [stemmer.stem(word) for word in tweet]\n",
        "    return stemmed_words\n",
        "\n",
        "def remove_number(tweet):\n",
        "    newTweet = re.sub('\\\\d+', '', tweet)\n",
        "    return newTweet\n",
        "\n",
        "def remove_hashtags(tweet):\n",
        "    result = ''\n",
        "\n",
        "    for word in tweet.split():\n",
        "        if word.startswith('#') or word.startswith('@'):\n",
        "            result += word[1:]\n",
        "            result += ' '\n",
        "        else:\n",
        "            result += word\n",
        "            result += ' '\n",
        "\n",
        "    return result"
      ],
      "execution_count": 0,
      "outputs": []
    },
    {
      "metadata": {
        "id": "QDsnLDRQGl71",
        "colab_type": "code",
        "colab": {}
      },
      "cell_type": "code",
      "source": [
        "def preprocessing(tweet, swords = True, url = True, stemming = True, ctweets = True, number = True, hashtag = True):\n",
        "\n",
        "    if ctweets:\n",
        "        tweet = clean_tweets(tweet)\n",
        "\n",
        "    if url:\n",
        "        tweet = clean_url(tweet)\n",
        "\n",
        "    if hashtag:\n",
        "        tweet = remove_hashtags(tweet)\n",
        "    \n",
        "    twtk = TweetTokenizer(strip_handles=True, reduce_len=True)\n",
        "\n",
        "    if number:\n",
        "        tweet = remove_number(tweet)\n",
        "    \n",
        "    tokens = [w.lower() for w in twtk.tokenize(tweet) if w != \"\" and w is not None]\n",
        "\n",
        "    if swords:\n",
        "        tokens = remove_stop_words(tokens)\n",
        "\n",
        "    if stemming:\n",
        "        tokens = stemming_tweets(tokens)\n",
        "\n",
        "    text = \" \".join(tokens)\n",
        "\n",
        "    return text"
      ],
      "execution_count": 0,
      "outputs": []
    },
    {
      "metadata": {
        "id": "SunHFjyyFLR3",
        "colab_type": "code",
        "colab": {}
      },
      "cell_type": "code",
      "source": [
        "train_text  = train['text'].map(lambda x: preprocessing(x, swords = True, url = True, stemming = True, ctweets = True, number = True, hashtag = True))\n",
        "hs_train    = train['HS']\n",
        "id_train    = train['id']\n",
        "tr_train    = train['TR']\n",
        "ag_train    = [1 if k == '1' else 0 for k in train['AG']]\n",
        "\n",
        "test_text  = dev['text'].map(lambda x: preprocessing(x, swords = True, url = True, stemming = True, ctweets = True, number = True, hashtag = True))\n",
        "hs_test    = dev['HS']\n",
        "id_test    = dev['id']\n",
        "tr_test    = dev['TR']\n",
        "ag_test    = dev['AG']\n",
        "\n",
        "max_features = 25000\n",
        "maxlen = 100"
      ],
      "execution_count": 0,
      "outputs": []
    },
    {
      "metadata": {
        "id": "aqXP3kWVBy1I",
        "colab_type": "code",
        "colab": {}
      },
      "cell_type": "code",
      "source": [
        "def code_data(train_text, y_train, test_text, y_test, maxlen, max_features):\n",
        "    data = np.concatenate((train_text, test_text), axis=0)\n",
        "    classes = np.concatenate((y_train, y_test), axis=0)\n",
        "\n",
        "    # Treina um tokenizaddor nos dados de treino\n",
        "    tokenizer = Tokenizer(num_words=max_features)\n",
        "    tokenizer.fit_on_texts(data)\n",
        "\n",
        "    # Tokeniza os dados\n",
        "    X = tokenizer.texts_to_sequences(data)\n",
        "    Y = tokenizer.texts_to_sequences(test_text)\n",
        "\n",
        "    tweets = sequence.pad_sequences(X, maxlen=maxlen)\n",
        "    x_test = sequence.pad_sequences(Y, maxlen=maxlen)\n",
        "    \n",
        "    return tweets, x_test, classes"
      ],
      "execution_count": 0,
      "outputs": []
    },
    {
      "metadata": {
        "id": "pTZGv8lcWGIU",
        "colab_type": "code",
        "colab": {}
      },
      "cell_type": "code",
      "source": [
        "# Fase de classificação de sentimentos\n",
        "batch_size = 32\n",
        "epochs = 5\n",
        "\n",
        "tweet_input = Input(shape=(maxlen,), dtype='int32')\n",
        "\n",
        "embedding = Embedding(max_features, 256, input_length=maxlen, trainable=True)(tweet_input)\n",
        "\n",
        "gru1 = CuDNNLSTM(256, kernel_initializer='normal', return_sequences=True)(embedding)\n",
        "\n",
        "gru2 = CuDNNLSTM(256)(gru1)\n",
        "\n",
        "dens = Dense(256, activation='relu')(gru2)\n",
        "\n",
        "output = Dense(1, activation='sigmoid')(dens)\n",
        "\n",
        "model = Model(inputs=tweet_input, outputs=output)\n",
        "\n",
        "#opt = Adam(lr=0.001, beta_1=0.9, beta_2=0.9)\n",
        "#opt = SGD(lr=0.01, momentum=0.0, decay=0.0, nesterov=False)\n",
        "opt = RMSprop(lr=0.001, rho=0.9, epsilon=None, decay=0.01)\n",
        "\n",
        "model.compile(optimizer=opt, loss='binary_crossentropy', metrics=['accuracy'])"
      ],
      "execution_count": 0,
      "outputs": []
    },
    {
      "metadata": {
        "id": "p3WDiie1Dq47",
        "colab_type": "code",
        "outputId": "5f020fa4-53bf-4111-9d8a-66dab883babb",
        "colab": {
          "base_uri": "https://localhost:8080/",
          "height": 550
        }
      },
      "cell_type": "code",
      "source": [
        "# Treinamento e predição - Hate Speech (HS)\n",
        "\n",
        "tweets, x_test, classes = code_data(train_text, hs_train, test_text, hs_test, maxlen, max_features)\n",
        "\n",
        "x_train, x_val, y_train, y_val = train_test_split(tweets, classes, test_size=0.25, random_state=None)\n",
        "\n",
        "model.summary()\n",
        "\n",
        "model.fit(x_train, y_train, batch_size=batch_size, epochs=epochs, shuffle=True, validation_data=(x_val, y_val))\n",
        "\n",
        "hs = (model.predict(x_test, batch_size=batch_size) > .5).astype(int)"
      ],
      "execution_count": 12,
      "outputs": [
        {
          "output_type": "stream",
          "text": [
            "_________________________________________________________________\n",
            "Layer (type)                 Output Shape              Param #   \n",
            "=================================================================\n",
            "input_1 (InputLayer)         (None, 100)               0         \n",
            "_________________________________________________________________\n",
            "embedding_1 (Embedding)      (None, 100, 256)          6400000   \n",
            "_________________________________________________________________\n",
            "cu_dnnlstm_1 (CuDNNLSTM)     (None, 100, 256)          526336    \n",
            "_________________________________________________________________\n",
            "cu_dnnlstm_2 (CuDNNLSTM)     (None, 256)               526336    \n",
            "_________________________________________________________________\n",
            "dense_1 (Dense)              (None, 256)               65792     \n",
            "_________________________________________________________________\n",
            "dense_2 (Dense)              (None, 1)                 257       \n",
            "=================================================================\n",
            "Total params: 7,518,721\n",
            "Trainable params: 7,518,721\n",
            "Non-trainable params: 0\n",
            "_________________________________________________________________\n",
            "Train on 7500 samples, validate on 2500 samples\n",
            "Epoch 1/5\n",
            "7500/7500 [==============================] - 18s 2ms/step - loss: 0.5433 - acc: 0.7255 - val_loss: 0.5809 - val_acc: 0.7584\n",
            "Epoch 2/5\n",
            "7500/7500 [==============================] - 16s 2ms/step - loss: 0.3925 - acc: 0.8221 - val_loss: 0.5307 - val_acc: 0.7660\n",
            "Epoch 3/5\n",
            "7500/7500 [==============================] - 16s 2ms/step - loss: 0.3434 - acc: 0.8497 - val_loss: 0.5073 - val_acc: 0.7588\n",
            "Epoch 4/5\n",
            "7500/7500 [==============================] - 16s 2ms/step - loss: 0.3107 - acc: 0.8691 - val_loss: 0.5333 - val_acc: 0.7616\n",
            "Epoch 5/5\n",
            "7500/7500 [==============================] - 16s 2ms/step - loss: 0.2829 - acc: 0.8809 - val_loss: 0.5399 - val_acc: 0.7584\n"
          ],
          "name": "stdout"
        }
      ]
    },
    {
      "metadata": {
        "id": "R77SHHR-E5gx",
        "colab_type": "code",
        "colab": {
          "base_uri": "https://localhost:8080/",
          "height": 550
        },
        "outputId": "9b1d80a3-3815-46ee-8a95-7852731ee5fb"
      },
      "cell_type": "code",
      "source": [
        "# Treinamento e predição - Target Range (TR)\n",
        "\n",
        "tweets, x_test, classes = code_data(train_text, tr_train, test_text, tr_test, maxlen, max_features)\n",
        "\n",
        "x_train, x_val, y_train, y_val = train_test_split(tweets, classes, test_size=0.25, random_state=None)\n",
        "\n",
        "model.summary()\n",
        "\n",
        "model.fit(x_train, y_train, batch_size=batch_size, epochs=epochs, shuffle=True, validation_data=(x_val, y_val))\n",
        "\n",
        "tr = (model.predict(x_test, batch_size=batch_size) > .5).astype(int)"
      ],
      "execution_count": 13,
      "outputs": [
        {
          "output_type": "stream",
          "text": [
            "_________________________________________________________________\n",
            "Layer (type)                 Output Shape              Param #   \n",
            "=================================================================\n",
            "input_1 (InputLayer)         (None, 100)               0         \n",
            "_________________________________________________________________\n",
            "embedding_1 (Embedding)      (None, 100, 256)          6400000   \n",
            "_________________________________________________________________\n",
            "cu_dnnlstm_1 (CuDNNLSTM)     (None, 100, 256)          526336    \n",
            "_________________________________________________________________\n",
            "cu_dnnlstm_2 (CuDNNLSTM)     (None, 256)               526336    \n",
            "_________________________________________________________________\n",
            "dense_1 (Dense)              (None, 256)               65792     \n",
            "_________________________________________________________________\n",
            "dense_2 (Dense)              (None, 1)                 257       \n",
            "=================================================================\n",
            "Total params: 7,518,721\n",
            "Trainable params: 7,518,721\n",
            "Non-trainable params: 0\n",
            "_________________________________________________________________\n",
            "Train on 7500 samples, validate on 2500 samples\n",
            "Epoch 1/5\n",
            "7500/7500 [==============================] - 16s 2ms/step - loss: 0.3665 - acc: 0.8296 - val_loss: 0.3115 - val_acc: 0.8388\n",
            "Epoch 2/5\n",
            "7500/7500 [==============================] - 16s 2ms/step - loss: 0.2716 - acc: 0.8711 - val_loss: 0.2736 - val_acc: 0.8796\n",
            "Epoch 3/5\n",
            "7500/7500 [==============================] - 16s 2ms/step - loss: 0.2374 - acc: 0.8992 - val_loss: 0.2628 - val_acc: 0.8860\n",
            "Epoch 4/5\n",
            "7500/7500 [==============================] - 16s 2ms/step - loss: 0.2177 - acc: 0.9089 - val_loss: 0.2595 - val_acc: 0.8900\n",
            "Epoch 5/5\n",
            "7500/7500 [==============================] - 16s 2ms/step - loss: 0.2041 - acc: 0.9171 - val_loss: 0.2609 - val_acc: 0.8940\n"
          ],
          "name": "stdout"
        }
      ]
    },
    {
      "metadata": {
        "id": "CXzpX6zME-bx",
        "colab_type": "code",
        "colab": {
          "base_uri": "https://localhost:8080/",
          "height": 550
        },
        "outputId": "dd88609f-b90a-44a5-c8ba-30310e738fb0"
      },
      "cell_type": "code",
      "source": [
        "# Treinamento e predição - Aggressiveness (AG)\n",
        "\n",
        "tweets, x_test, classes = code_data(train_text, ag_train, test_text, ag_test, maxlen, max_features)\n",
        "\n",
        "x_train, x_val, y_train, y_val = train_test_split(tweets, classes, test_size=0.25, random_state=None)\n",
        "\n",
        "model.summary()\n",
        "\n",
        "model.fit(x_train, y_train, batch_size=batch_size, epochs=epochs, shuffle=True, validation_data=(x_val, y_val))\n",
        "\n",
        "ag = (model.predict(x_test, batch_size=batch_size) > .5).astype(int)"
      ],
      "execution_count": 14,
      "outputs": [
        {
          "output_type": "stream",
          "text": [
            "_________________________________________________________________\n",
            "Layer (type)                 Output Shape              Param #   \n",
            "=================================================================\n",
            "input_1 (InputLayer)         (None, 100)               0         \n",
            "_________________________________________________________________\n",
            "embedding_1 (Embedding)      (None, 100, 256)          6400000   \n",
            "_________________________________________________________________\n",
            "cu_dnnlstm_1 (CuDNNLSTM)     (None, 100, 256)          526336    \n",
            "_________________________________________________________________\n",
            "cu_dnnlstm_2 (CuDNNLSTM)     (None, 256)               526336    \n",
            "_________________________________________________________________\n",
            "dense_1 (Dense)              (None, 256)               65792     \n",
            "_________________________________________________________________\n",
            "dense_2 (Dense)              (None, 1)                 257       \n",
            "=================================================================\n",
            "Total params: 7,518,721\n",
            "Trainable params: 7,518,721\n",
            "Non-trainable params: 0\n",
            "_________________________________________________________________\n",
            "Train on 7500 samples, validate on 2500 samples\n",
            "Epoch 1/5\n",
            "7500/7500 [==============================] - 16s 2ms/step - loss: 0.4092 - acc: 0.8177 - val_loss: 0.3476 - val_acc: 0.8380\n",
            "Epoch 2/5\n",
            "7500/7500 [==============================] - 16s 2ms/step - loss: 0.3552 - acc: 0.8328 - val_loss: 0.3338 - val_acc: 0.8548\n",
            "Epoch 3/5\n",
            "7500/7500 [==============================] - 16s 2ms/step - loss: 0.3437 - acc: 0.8416 - val_loss: 0.3287 - val_acc: 0.8536\n",
            "Epoch 4/5\n",
            "7500/7500 [==============================] - 16s 2ms/step - loss: 0.3329 - acc: 0.8452 - val_loss: 0.3263 - val_acc: 0.8524\n",
            "Epoch 5/5\n",
            "7500/7500 [==============================] - 16s 2ms/step - loss: 0.3232 - acc: 0.8537 - val_loss: 0.3243 - val_acc: 0.8524\n"
          ],
          "name": "stdout"
        }
      ]
    },
    {
      "metadata": {
        "id": "4DpgoxpT88nK",
        "colab_type": "code",
        "outputId": "19c0201c-2a57-4592-b21e-fe053d1c6982",
        "colab": {
          "base_uri": "https://localhost:8080/",
          "height": 34
        }
      },
      "cell_type": "code",
      "source": [
        "def func(pred):\n",
        "    output = []\n",
        "    \n",
        "    for array in pred:\n",
        "        output.append(array[0])\n",
        "    \n",
        "    return output\n",
        "\n",
        "\n",
        "hs_pred = func(hs)\n",
        "tr_pred = func(tr)\n",
        "ag_pred = func(ag)\n",
        "\n",
        "print(len(hs_pred), len(tr_pred), len(ag_pred))"
      ],
      "execution_count": 15,
      "outputs": [
        {
          "output_type": "stream",
          "text": [
            "1000 1000 1000\n"
          ],
          "name": "stdout"
        }
      ]
    },
    {
      "metadata": {
        "id": "2IJCgb0J9Aza",
        "colab_type": "code",
        "colab": {}
      },
      "cell_type": "code",
      "source": [
        "from google.colab import files\n",
        "\n",
        "with open(\"en_b.tsv\", \"w\") as file:\n",
        "    for i in range(len(hs_pred)):\n",
        "        file.write(str(id_test[i]))\n",
        "        file.write('\\t')\n",
        "        file.write(str(hs_pred[i]))\n",
        "        file.write('\\t')\n",
        "        file.write(str(tr_pred[i]))\n",
        "        file.write('\\t')\n",
        "        file.write(str(ag_pred[i]))\n",
        "        file.write('\\n')\n",
        "    \n",
        "files.download('en_b.tsv')"
      ],
      "execution_count": 0,
      "outputs": []
    }
  ]
}