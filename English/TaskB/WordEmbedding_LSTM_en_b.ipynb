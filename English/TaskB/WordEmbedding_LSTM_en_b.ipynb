{
  "nbformat": 4,
  "nbformat_minor": 0,
  "metadata": {
    "colab": {
      "name": "WordEmbedding_LSTM_en_b.ipynb",
      "version": "0.3.2",
      "provenance": [],
      "collapsed_sections": []
    },
    "kernelspec": {
      "name": "python3",
      "display_name": "Python 3"
    },
    "accelerator": "GPU"
  },
  "cells": [
    {
      "metadata": {
        "id": "QL28WSHoBsfp",
        "colab_type": "code",
        "outputId": "085e3ae5-8a92-41b9-820c-364837f6c120",
        "colab": {
          "base_uri": "https://localhost:8080/",
          "height": 34
        }
      },
      "cell_type": "code",
      "source": [
        "# -*- coding: utf-8 -*-\n",
        "\n",
        "#@author: alison\n",
        "\n",
        "import re\n",
        "import string\n",
        "import pickle\n",
        "import keras\n",
        "import nltk\n",
        "import numpy as np\n",
        "import pandas as pd\n",
        "from nltk.corpus import stopwords\n",
        "from nltk.stem import PorterStemmer, SnowballStemmer\n",
        "from nltk.tokenize import TweetTokenizer\n",
        "from sklearn.model_selection import train_test_split\n",
        "from keras.preprocessing.text import Tokenizer\n",
        "from keras.preprocessing import sequence\n",
        "from keras.models import Model\n",
        "from keras.layers import Dense, Dropout, Embedding, LSTM, CuDNNLSTM\n",
        "from keras.layers import Input, Activation\n",
        "from keras.optimizers import Adam, SGD, RMSprop\n",
        "from keras import optimizers\n",
        "from keras import regularizers"
      ],
      "execution_count": 1,
      "outputs": [
        {
          "output_type": "stream",
          "text": [
            "Using TensorFlow backend.\n"
          ],
          "name": "stderr"
        }
      ]
    },
    {
      "metadata": {
        "id": "XdekfYsoV2c2",
        "colab_type": "code",
        "outputId": "85274b12-7857-4215-bdbe-466cac195eaa",
        "colab": {
          "base_uri": "https://localhost:8080/",
          "height": 70
        }
      },
      "cell_type": "code",
      "source": [
        "import nltk\n",
        "nltk.download('stopwords')"
      ],
      "execution_count": 2,
      "outputs": [
        {
          "output_type": "stream",
          "text": [
            "[nltk_data] Downloading package stopwords to /root/nltk_data...\n",
            "[nltk_data]   Package stopwords is already up-to-date!\n"
          ],
          "name": "stdout"
        },
        {
          "output_type": "execute_result",
          "data": {
            "text/plain": [
              "True"
            ]
          },
          "metadata": {
            "tags": []
          },
          "execution_count": 2
        }
      ]
    },
    {
      "metadata": {
        "id": "-TpI0dMJEi6p",
        "colab_type": "code",
        "colab": {}
      },
      "cell_type": "code",
      "source": [
        "!pip install -U -q PyDrive\n",
        " \n",
        "from pydrive.auth import GoogleAuth\n",
        "from pydrive.drive import GoogleDrive\n",
        "from google.colab import auth\n",
        "from oauth2client.client import GoogleCredentials\n",
        " \n",
        "# 1. Authenticate and create the PyDrive client.\n",
        "auth.authenticate_user()\n",
        "gauth = GoogleAuth()\n",
        "gauth.credentials = GoogleCredentials.get_application_default()\n",
        "drive = GoogleDrive(gauth)"
      ],
      "execution_count": 0,
      "outputs": []
    },
    {
      "metadata": {
        "id": "XEfvBz8IEqrO",
        "colab_type": "code",
        "outputId": "ba8d0aa9-1a72-4534-8934-1672620ae4a3",
        "colab": {
          "base_uri": "https://localhost:8080/",
          "height": 230
        }
      },
      "cell_type": "code",
      "source": [
        "file_list = drive.ListFile({'q': \"'1JsHac7_mxx_M8BapYSzcDKnzl4M9e1Yb' in parents and trashed=false\"}).GetList()\n",
        "for file1 in file_list:\n",
        "    print('title: %s, id: %s' % (file1['title'], file1['id']))"
      ],
      "execution_count": 4,
      "outputs": [
        {
          "output_type": "stream",
          "text": [
            "title: WordEmbedding_LSTM_en_b.ipynb, id: 1X0gbSY2GSaAFAux8TtspIXHPYefVE01H\n",
            "title: WordEmbedding_GRU_en_b.ipynb, id: 1f87RaAgRU_RYsrSXZoHMu7ylpMv__0IV\n",
            "title: bi_lstm_en_b.ipynb, id: 19N0cZ6WKYpnTfDVgKn1i-4UzLEN4jmSK\n",
            "title: lstm_en_b.ipynb, id: 1n63dDEnPeqMTASzhwnaDnG_8knVqmIkX\n",
            "title: gru_en_b.ipynb, id: 1l3cd4flv4i1iOwKjLdnDb5082nNkqvYe\n",
            "title: CNN_en_b.ipynb, id: 1Y4-iz6jsFtExSbQu4Iw0Rdwz23cAcZA2\n",
            "title: test_en.tsv, id: 1Z-kJ95PF2VZiGAn_5Piyovk8SZ-bYQJv\n",
            "title: test_es.tsv, id: 1PlU_aDjY9RLq2CKW1zMQTDmRDcZ0f8YL\n",
            "title: train_en.tsv, id: 1tv4kRZtCJu7F4WtkBvaMWZMXZZDYF-yv\n",
            "title: dev_en.tsv, id: 116R1Q_P_m75ZagpkE7cZXfXHiDSDwrJy\n",
            "title: train_es.tsv, id: 18SENOaqh8YZ98vrzHgHP3sQk3sycMz0H\n",
            "title: dev_es.tsv, id: 1S5cZDZq7Mhmxpp_SUs79j86An3ICs265\n"
          ],
          "name": "stdout"
        }
      ]
    },
    {
      "metadata": {
        "id": "h2hLjMJyE3dR",
        "colab_type": "code",
        "colab": {}
      },
      "cell_type": "code",
      "source": [
        "train_downloaded = drive.CreateFile({'id': '1tv4kRZtCJu7F4WtkBvaMWZMXZZDYF-yv'})\n",
        "train_downloaded.GetContentFile('train_en.tsv')\n",
        "dev_downloaded = drive.CreateFile({'id': '116R1Q_P_m75ZagpkE7cZXfXHiDSDwrJy'})\n",
        "dev_downloaded.GetContentFile('dev_en.tsv')\n",
        "test_downloaded = drive.CreateFile({'id': '1Z-kJ95PF2VZiGAn_5Piyovk8SZ-bYQJv'})\n",
        "test_downloaded.GetContentFile('test_en.tsv')"
      ],
      "execution_count": 0,
      "outputs": []
    },
    {
      "metadata": {
        "id": "0s3Dnnk8FF4j",
        "colab_type": "code",
        "colab": {}
      },
      "cell_type": "code",
      "source": [
        "train = pd.read_csv('train_en.tsv', delimiter='\\t',encoding='utf-8')\n",
        "dev = pd.read_csv('dev_en.tsv', delimiter='\\t',encoding='utf-8')\n",
        "#test = pd.read_csv('test_en.tsv', delimiter='\\t',encoding='utf-8')"
      ],
      "execution_count": 0,
      "outputs": []
    },
    {
      "metadata": {
        "id": "lrslbThJCeSY",
        "colab_type": "code",
        "colab": {}
      },
      "cell_type": "code",
      "source": [
        "# Etapa de pré-processamento\n",
        "\n",
        "def clean_tweets(tweet):\n",
        "    tweet = re.sub('@(\\\\w{1,15})\\b', '', tweet)\n",
        "    tweet = tweet.replace(\"via \", \"\")\n",
        "    tweet = tweet.replace(\"RT \", \"\")\n",
        "    tweet = tweet.lower()\n",
        "    return tweet\n",
        "    \n",
        "def clean_url(tweet):\n",
        "    tweet = re.sub('http\\\\S+', '', tweet, flags=re.MULTILINE)   \n",
        "    return tweet\n",
        "    \n",
        "def remove_stop_words(tweet):\n",
        "    stops = set(stopwords.words(\"english\"))\n",
        "    stops.update(['.',',','\"',\"'\",'?',':',';','(',')','[',']','{','}'])\n",
        "    toks = [tok for tok in tweet if not tok in stops and len(tok) >= 3]\n",
        "    return toks\n",
        "    \n",
        "def stemming_tweets(tweet):\n",
        "    stemmer = SnowballStemmer('english')\n",
        "    stemmed_words = [stemmer.stem(word) for word in tweet]\n",
        "    return stemmed_words\n",
        "\n",
        "def remove_number(tweet):\n",
        "    newTweet = re.sub('\\\\d+', '', tweet)\n",
        "    return newTweet\n",
        "\n",
        "def remove_hashtags(tweet):\n",
        "    result = ''\n",
        "\n",
        "    for word in tweet.split():\n",
        "        if word.startswith('#') or word.startswith('@'):\n",
        "            result += word[1:]\n",
        "            result += ' '\n",
        "        else:\n",
        "            result += word\n",
        "            result += ' '\n",
        "\n",
        "    return result"
      ],
      "execution_count": 0,
      "outputs": []
    },
    {
      "metadata": {
        "id": "QDsnLDRQGl71",
        "colab_type": "code",
        "colab": {}
      },
      "cell_type": "code",
      "source": [
        "def preprocessing(tweet, swords = True, url = True, stemming = True, ctweets = True, number = True, hashtag = True):\n",
        "\n",
        "    if ctweets:\n",
        "        tweet = clean_tweets(tweet)\n",
        "\n",
        "    if url:\n",
        "        tweet = clean_url(tweet)\n",
        "\n",
        "    if hashtag:\n",
        "        tweet = remove_hashtags(tweet)\n",
        "    \n",
        "    twtk = TweetTokenizer(strip_handles=True, reduce_len=True)\n",
        "\n",
        "    if number:\n",
        "        tweet = remove_number(tweet)\n",
        "    \n",
        "    tokens = [w.lower() for w in twtk.tokenize(tweet) if w != \"\" and w is not None]\n",
        "\n",
        "    if swords:\n",
        "        tokens = remove_stop_words(tokens)\n",
        "\n",
        "    if stemming:\n",
        "        tokens = stemming_tweets(tokens)\n",
        "\n",
        "    text = \" \".join(tokens)\n",
        "\n",
        "    return text"
      ],
      "execution_count": 0,
      "outputs": []
    },
    {
      "metadata": {
        "id": "SunHFjyyFLR3",
        "colab_type": "code",
        "colab": {}
      },
      "cell_type": "code",
      "source": [
        "train_text  = train['text'].map(lambda x: preprocessing(x, swords = True, url = True, stemming = True, ctweets = True, number = True, hashtag = True))\n",
        "hs_train    = train['HS']\n",
        "id_train    = train['id']\n",
        "tr_train    = train['TR']\n",
        "ag_train    = [1 if k == '1' else 0 for k in train['AG']]\n",
        "\n",
        "test_text  = dev['text'].map(lambda x: preprocessing(x, swords = True, url = True, stemming = True, ctweets = True, number = True, hashtag = True))\n",
        "hs_test    = dev['HS']\n",
        "id_test    = dev['id']\n",
        "tr_test    = dev['TR']\n",
        "ag_test    = dev['AG']\n",
        "\n",
        "max_features = 25000\n",
        "maxlen = 100\n",
        "word_embedding_dim = 300"
      ],
      "execution_count": 0,
      "outputs": []
    },
    {
      "metadata": {
        "id": "zdMmsNxqM8S4",
        "colab_type": "code",
        "colab": {}
      },
      "cell_type": "code",
      "source": [
        "def code_data(train_text, test_text, maxlen, max_features):\n",
        "    data = np.concatenate((train_text, test_text), axis=0)\n",
        "\n",
        "    # Treina um tokenizaddor nos dados de treino\n",
        "    tokenizer = Tokenizer(num_words=max_features)\n",
        "    tokenizer.fit_on_texts(data)\n",
        "\n",
        "    # Tokeniza os dados\n",
        "    X = tokenizer.texts_to_sequences(data)\n",
        "    Y = tokenizer.texts_to_sequences(test_text)\n",
        "\n",
        "    tweets = sequence.pad_sequences(X, maxlen=maxlen)\n",
        "    x_test = sequence.pad_sequences(Y, maxlen=maxlen)\n",
        "    \n",
        "    word_index = tokenizer.word_index\n",
        "    \n",
        "    return tweets, x_test, word_index"
      ],
      "execution_count": 0,
      "outputs": []
    },
    {
      "metadata": {
        "id": "pTZGv8lcWGIU",
        "colab_type": "code",
        "colab": {}
      },
      "cell_type": "code",
      "source": [
        "tweets, x_test, word_index = code_data(train_text, test_text, maxlen, max_features)"
      ],
      "execution_count": 0,
      "outputs": []
    },
    {
      "metadata": {
        "id": "OPki5CvtNG-i",
        "colab_type": "code",
        "colab": {}
      },
      "cell_type": "code",
      "source": [
        "num_words = min(max_features, len(word_index) + 1)"
      ],
      "execution_count": 0,
      "outputs": []
    },
    {
      "metadata": {
        "id": "ruveMxQ0NJ4F",
        "colab_type": "code",
        "colab": {}
      },
      "cell_type": "code",
      "source": [
        "from tqdm import tqdm"
      ],
      "execution_count": 0,
      "outputs": []
    },
    {
      "metadata": {
        "id": "_lFa0GNANKaw",
        "colab_type": "code",
        "outputId": "306db388-548b-41b9-a815-589d0d56e872",
        "colab": {
          "base_uri": "https://localhost:8080/",
          "height": 141
        }
      },
      "cell_type": "code",
      "source": [
        "file_list = drive.ListFile({'q': \"'1sBKK1i4JXIluelnAPqjOU4xVIIPA3Vmy' in parents and trashed=false\"}).GetList()\n",
        "for file1 in file_list:\n",
        "    print('title: %s, id: %s' % (file1['title'], file1['id']))"
      ],
      "execution_count": 14,
      "outputs": [
        {
          "output_type": "stream",
          "text": [
            "title: GoogleNews-word2vec-300_en.bin, id: 1bERzzLRCcPdavQYVJCwLvt8uWmiRdg_o\n",
            "title: glove-300d_es.vec, id: 167op9mvIKVfH1XGm3dkZ7afHReiqvmIN\n",
            "title: glove.6B.300d_en.txt, id: 1FRfAM3GouOxelBo_gwj5n4YNWDMP6CkL\n",
            "title: wiki_fasttext_es.vec, id: 1S1ObfL0R15IzRK_T1RrSxZMn0TJDECsN\n",
            "title: wiki_fasttext_en.vec, id: 18zPA_9tWmlNZChdfMKHTp0Ka1SQsnkj9\n",
            "title: TaskA, id: 1Hx5OP1Yrlh37yYzSMtsv6Ui_fuzOuG04\n",
            "title: TaskB, id: 1JsHac7_mxx_M8BapYSzcDKnzl4M9e1Yb\n"
          ],
          "name": "stdout"
        }
      ]
    },
    {
      "metadata": {
        "id": "cwYMHLiwOLvO",
        "colab_type": "code",
        "colab": {}
      },
      "cell_type": "code",
      "source": [
        "we    = {'id': '1FRfAM3GouOxelBo_gwj5n4YNWDMP6CkL', 'file': 'glove.6B.300d_en.txt'}\n",
        "#we = {'id': '18zPA_9tWmlNZChdfMKHTp0Ka1SQsnkj9', 'file': 'wiki_fasttext_en.vec'}"
      ],
      "execution_count": 0,
      "outputs": []
    },
    {
      "metadata": {
        "id": "x2WBRPz3NRLk",
        "colab_type": "code",
        "colab": {}
      },
      "cell_type": "code",
      "source": [
        "word_vector = drive.CreateFile({'id': we['id']})\n",
        "word_vector.GetContentFile(we['file'])"
      ],
      "execution_count": 0,
      "outputs": []
    },
    {
      "metadata": {
        "id": "PL3T-Qg2NUM2",
        "colab_type": "code",
        "colab": {}
      },
      "cell_type": "code",
      "source": [
        "def word_embeddings(word_index, num_words, word_embedding_dim):\n",
        "    embeddings_index = {}\n",
        "    \n",
        "    f = open(we['file'], 'r', encoding='utf-8')\n",
        "    \n",
        "    for line in tqdm(f):\n",
        "        values = line.rstrip().rsplit(' ')\n",
        "        word = values[0]\n",
        "        coefs = np.asarray(values[1:], dtype='float32')\n",
        "        embeddings_index[word] = coefs\n",
        "    \n",
        "    f.close()\n",
        "\n",
        "    embedding_matrix = np.zeros((num_words, word_embedding_dim))\n",
        "    \n",
        "    for word, i in word_index.items():\n",
        "        if i >= max_features:\n",
        "            continue\n",
        "        \n",
        "        embedding_vector = embeddings_index.get(word)\n",
        "        \n",
        "        if embedding_vector is not None:\n",
        "            embedding_matrix[i] = embedding_vector\n",
        "\n",
        "    return embedding_matrix"
      ],
      "execution_count": 0,
      "outputs": []
    },
    {
      "metadata": {
        "id": "TkJ_dzMrNYaa",
        "colab_type": "code",
        "outputId": "9d4b2944-bfb7-4532-c449-c93042fb9266",
        "colab": {
          "base_uri": "https://localhost:8080/",
          "height": 34
        }
      },
      "cell_type": "code",
      "source": [
        "weights_embedding_matrix = word_embeddings(word_index, num_words, word_embedding_dim)"
      ],
      "execution_count": 18,
      "outputs": [
        {
          "output_type": "stream",
          "text": [
            "400000it [00:36, 11065.05it/s]\n"
          ],
          "name": "stderr"
        }
      ]
    },
    {
      "metadata": {
        "id": "BawjLqxwNcwS",
        "colab_type": "code",
        "colab": {}
      },
      "cell_type": "code",
      "source": [
        "# Fase de classificação de sentimentos\n",
        "\n",
        "epochs = 5\n",
        "batch_size = 32\n",
        "\n",
        "tweet_input = Input(shape=(maxlen,), dtype='int32')\n",
        "\n",
        "embedding = Embedding(num_words, word_embedding_dim, input_length=maxlen, weights=[weights_embedding_matrix], trainable=True)(tweet_input)\n",
        "\n",
        "gru1 = CuDNNLSTM(256, kernel_initializer='normal', return_sequences=True)(embedding)\n",
        "\n",
        "gru2 = CuDNNLSTM(256)(gru1)\n",
        "\n",
        "dens = Dense(256, activation='relu')(gru2)\n",
        "\n",
        "output = Dense(1, activation='sigmoid')(dens)\n",
        "\n",
        "model = Model(inputs=tweet_input, outputs=output)\n",
        "\n",
        "#opt = Adam(lr=0.001, beta_1=0.9, beta_2=0.825, epsilon=1e-08)\n",
        "#opt = SGD(lr=0.01, momentum=0.0, decay=0.0, nesterov=False)\n",
        "opt = RMSprop(lr=0.001, rho=0.9, epsilon=None, decay=0.01)\n",
        "\n",
        "model.compile(optimizer=opt, loss='binary_crossentropy', metrics=['accuracy'])"
      ],
      "execution_count": 0,
      "outputs": []
    },
    {
      "metadata": {
        "id": "2IjUtKhIIKQO",
        "colab_type": "code",
        "outputId": "a3bde9f2-0b2e-46f0-e9ae-b3008aa3e754",
        "colab": {
          "base_uri": "https://localhost:8080/",
          "height": 550
        }
      },
      "cell_type": "code",
      "source": [
        "# Treinamento e predição - Hate Speech (HS)\n",
        "\n",
        "classes = np.concatenate((hs_train, hs_test), axis=0)\n",
        "\n",
        "x_train, x_val, y_train, y_val = train_test_split(tweets, classes, test_size=0.25, random_state=None)\n",
        "\n",
        "model.summary()\n",
        "\n",
        "model.fit(x_train, y_train, batch_size=batch_size, epochs=epochs, shuffle=True, validation_data=(x_val, y_val), validation_steps=None)\n",
        "\n",
        "hs = (model.predict(x_test, batch_size=batch_size) > .5).astype(int)"
      ],
      "execution_count": 20,
      "outputs": [
        {
          "output_type": "stream",
          "text": [
            "_________________________________________________________________\n",
            "Layer (type)                 Output Shape              Param #   \n",
            "=================================================================\n",
            "input_1 (InputLayer)         (None, 100)               0         \n",
            "_________________________________________________________________\n",
            "embedding_1 (Embedding)      (None, 100, 300)          4993200   \n",
            "_________________________________________________________________\n",
            "cu_dnnlstm_1 (CuDNNLSTM)     (None, 100, 256)          571392    \n",
            "_________________________________________________________________\n",
            "cu_dnnlstm_2 (CuDNNLSTM)     (None, 256)               526336    \n",
            "_________________________________________________________________\n",
            "dense_1 (Dense)              (None, 256)               65792     \n",
            "_________________________________________________________________\n",
            "dense_2 (Dense)              (None, 1)                 257       \n",
            "=================================================================\n",
            "Total params: 6,156,977\n",
            "Trainable params: 6,156,977\n",
            "Non-trainable params: 0\n",
            "_________________________________________________________________\n",
            "Train on 7500 samples, validate on 2500 samples\n",
            "Epoch 1/5\n",
            "7500/7500 [==============================] - 18s 2ms/step - loss: 0.5674 - acc: 0.7073 - val_loss: 0.5046 - val_acc: 0.7500\n",
            "Epoch 2/5\n",
            "7500/7500 [==============================] - 17s 2ms/step - loss: 0.4452 - acc: 0.7897 - val_loss: 0.4929 - val_acc: 0.7748\n",
            "Epoch 3/5\n",
            "7500/7500 [==============================] - 17s 2ms/step - loss: 0.3794 - acc: 0.8299 - val_loss: 0.5262 - val_acc: 0.7716\n",
            "Epoch 4/5\n",
            "7500/7500 [==============================] - 16s 2ms/step - loss: 0.3332 - acc: 0.8513 - val_loss: 0.5263 - val_acc: 0.7712\n",
            "Epoch 5/5\n",
            "7500/7500 [==============================] - 16s 2ms/step - loss: 0.2975 - acc: 0.8689 - val_loss: 0.5908 - val_acc: 0.7604\n"
          ],
          "name": "stdout"
        }
      ]
    },
    {
      "metadata": {
        "id": "rx8QHLaNWgdn",
        "colab_type": "code",
        "outputId": "b0dbc8a3-c81d-43ef-a196-8130b61c4abb",
        "colab": {
          "base_uri": "https://localhost:8080/",
          "height": 550
        }
      },
      "cell_type": "code",
      "source": [
        "# Treinamento e predição - Target Range (TR)\n",
        "\n",
        "classes = np.concatenate((tr_train, tr_test), axis=0)\n",
        "\n",
        "x_train, x_val, y_train, y_val = train_test_split(tweets, classes, test_size=0.25, random_state=None)\n",
        "\n",
        "model.summary()\n",
        "\n",
        "model.fit(x_train, y_train, batch_size=batch_size, epochs=epochs, shuffle=True, validation_data=(x_val, y_val), validation_steps=None)\n",
        "\n",
        "tr = (model.predict(x_test, batch_size=batch_size) > .5).astype(int)"
      ],
      "execution_count": 21,
      "outputs": [
        {
          "output_type": "stream",
          "text": [
            "_________________________________________________________________\n",
            "Layer (type)                 Output Shape              Param #   \n",
            "=================================================================\n",
            "input_1 (InputLayer)         (None, 100)               0         \n",
            "_________________________________________________________________\n",
            "embedding_1 (Embedding)      (None, 100, 300)          4993200   \n",
            "_________________________________________________________________\n",
            "cu_dnnlstm_1 (CuDNNLSTM)     (None, 100, 256)          571392    \n",
            "_________________________________________________________________\n",
            "cu_dnnlstm_2 (CuDNNLSTM)     (None, 256)               526336    \n",
            "_________________________________________________________________\n",
            "dense_1 (Dense)              (None, 256)               65792     \n",
            "_________________________________________________________________\n",
            "dense_2 (Dense)              (None, 1)                 257       \n",
            "=================================================================\n",
            "Total params: 6,156,977\n",
            "Trainable params: 6,156,977\n",
            "Non-trainable params: 0\n",
            "_________________________________________________________________\n",
            "Train on 7500 samples, validate on 2500 samples\n",
            "Epoch 1/5\n",
            "7500/7500 [==============================] - 16s 2ms/step - loss: 0.3165 - acc: 0.8615 - val_loss: 0.2863 - val_acc: 0.8676\n",
            "Epoch 2/5\n",
            "7500/7500 [==============================] - 16s 2ms/step - loss: 0.2489 - acc: 0.8935 - val_loss: 0.2844 - val_acc: 0.8696\n",
            "Epoch 3/5\n",
            "7500/7500 [==============================] - 16s 2ms/step - loss: 0.2290 - acc: 0.8999 - val_loss: 0.2869 - val_acc: 0.8696\n",
            "Epoch 4/5\n",
            "7500/7500 [==============================] - 16s 2ms/step - loss: 0.2139 - acc: 0.9051 - val_loss: 0.2827 - val_acc: 0.8760\n",
            "Epoch 5/5\n",
            "7500/7500 [==============================] - 16s 2ms/step - loss: 0.2013 - acc: 0.9137 - val_loss: 0.2758 - val_acc: 0.8756\n"
          ],
          "name": "stdout"
        }
      ]
    },
    {
      "metadata": {
        "id": "n4b5VACKIw8w",
        "colab_type": "code",
        "outputId": "86a19e9c-9aba-47c8-e7f0-5b3b3b9f9f1e",
        "colab": {
          "base_uri": "https://localhost:8080/",
          "height": 550
        }
      },
      "cell_type": "code",
      "source": [
        "# Treinamento e predição - Aggressiveness (AG)\n",
        "\n",
        "classes = np.concatenate((ag_train, ag_test), axis=0)\n",
        "\n",
        "x_train, x_val, y_train, y_val = train_test_split(tweets, classes, test_size=0.25, random_state=None)\n",
        "\n",
        "model.summary()\n",
        "\n",
        "model.fit(x_train, y_train, batch_size=batch_size, epochs=epochs, shuffle=True, validation_data=(x_val, y_val), validation_steps=None)\n",
        "\n",
        "ag = (model.predict(x_test, batch_size=batch_size) > .5).astype(int)"
      ],
      "execution_count": 22,
      "outputs": [
        {
          "output_type": "stream",
          "text": [
            "_________________________________________________________________\n",
            "Layer (type)                 Output Shape              Param #   \n",
            "=================================================================\n",
            "input_1 (InputLayer)         (None, 100)               0         \n",
            "_________________________________________________________________\n",
            "embedding_1 (Embedding)      (None, 100, 300)          4993200   \n",
            "_________________________________________________________________\n",
            "cu_dnnlstm_1 (CuDNNLSTM)     (None, 100, 256)          571392    \n",
            "_________________________________________________________________\n",
            "cu_dnnlstm_2 (CuDNNLSTM)     (None, 256)               526336    \n",
            "_________________________________________________________________\n",
            "dense_1 (Dense)              (None, 256)               65792     \n",
            "_________________________________________________________________\n",
            "dense_2 (Dense)              (None, 1)                 257       \n",
            "=================================================================\n",
            "Total params: 6,156,977\n",
            "Trainable params: 6,156,977\n",
            "Non-trainable params: 0\n",
            "_________________________________________________________________\n",
            "Train on 7500 samples, validate on 2500 samples\n",
            "Epoch 1/5\n",
            "7500/7500 [==============================] - 16s 2ms/step - loss: 0.3876 - acc: 0.8229 - val_loss: 0.3476 - val_acc: 0.8400\n",
            "Epoch 2/5\n",
            "7500/7500 [==============================] - 16s 2ms/step - loss: 0.3340 - acc: 0.8403 - val_loss: 0.3432 - val_acc: 0.8428\n",
            "Epoch 3/5\n",
            "7500/7500 [==============================] - 16s 2ms/step - loss: 0.3179 - acc: 0.8524 - val_loss: 0.3390 - val_acc: 0.8456\n",
            "Epoch 4/5\n",
            "7500/7500 [==============================] - 16s 2ms/step - loss: 0.3043 - acc: 0.8608 - val_loss: 0.3389 - val_acc: 0.8460\n",
            "Epoch 5/5\n",
            "7500/7500 [==============================] - 16s 2ms/step - loss: 0.2938 - acc: 0.8651 - val_loss: 0.3404 - val_acc: 0.8428\n"
          ],
          "name": "stdout"
        }
      ]
    },
    {
      "metadata": {
        "id": "4DpgoxpT88nK",
        "colab_type": "code",
        "outputId": "2858e0a9-4620-41a3-c7f7-22e7e4daa007",
        "colab": {
          "base_uri": "https://localhost:8080/",
          "height": 34
        }
      },
      "cell_type": "code",
      "source": [
        "def func(pred):\n",
        "    output = []\n",
        "    \n",
        "    for array in pred:\n",
        "        output.append(array[0])\n",
        "    \n",
        "    return output\n",
        "\n",
        "\n",
        "hs_pred = func(hs)\n",
        "tr_pred = func(tr)\n",
        "ag_pred = func(ag)\n",
        "\n",
        "print(len(hs_pred), len(tr_pred), len(ag_pred))"
      ],
      "execution_count": 23,
      "outputs": [
        {
          "output_type": "stream",
          "text": [
            "1000 1000 1000\n"
          ],
          "name": "stdout"
        }
      ]
    },
    {
      "metadata": {
        "id": "2IJCgb0J9Aza",
        "colab_type": "code",
        "colab": {}
      },
      "cell_type": "code",
      "source": [
        "from google.colab import files\n",
        "\n",
        "with open(\"en_b.tsv\", \"w\") as file:\n",
        "    for i in range(len(hs_pred)):\n",
        "        file.write(str(id_test[i]))\n",
        "        file.write('\\t')\n",
        "        file.write(str(hs_pred[i]))\n",
        "        file.write('\\t')\n",
        "        file.write(str(tr_pred[i]))\n",
        "        file.write('\\t')\n",
        "        file.write(str(ag_pred[i]))\n",
        "        file.write('\\n')\n",
        "    \n",
        "files.download('en_b.tsv')"
      ],
      "execution_count": 0,
      "outputs": []
    }
  ]
}