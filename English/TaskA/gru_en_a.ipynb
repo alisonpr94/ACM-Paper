{
  "nbformat": 4,
  "nbformat_minor": 0,
  "metadata": {
    "colab": {
      "name": "gru_en_a.ipynb",
      "version": "0.3.2",
      "provenance": [],
      "collapsed_sections": []
    },
    "kernelspec": {
      "name": "python3",
      "display_name": "Python 3"
    },
    "accelerator": "GPU"
  },
  "cells": [
    {
      "metadata": {
        "id": "QL28WSHoBsfp",
        "colab_type": "code",
        "colab": {
          "base_uri": "https://localhost:8080/",
          "height": 34
        },
        "outputId": "1ae064c4-e748-419e-b6ce-01b74c7b28d2"
      },
      "cell_type": "code",
      "source": [
        "# -*- coding: utf-8 -*-\n",
        "\n",
        "#@author: alison\n",
        "\n",
        "import re\n",
        "import string\n",
        "import pickle\n",
        "import keras\n",
        "import nltk\n",
        "import numpy as np\n",
        "import pandas as pd\n",
        "from nltk.corpus import stopwords\n",
        "from nltk.stem import PorterStemmer, SnowballStemmer\n",
        "from nltk.tokenize import TweetTokenizer\n",
        "from sklearn.model_selection import train_test_split\n",
        "from keras.preprocessing.text import Tokenizer\n",
        "from keras.preprocessing import sequence\n",
        "from keras.models import Model\n",
        "from keras.layers import Dense, Dropout, Embedding, CuDNNGRU\n",
        "from keras.layers import Input, GlobalAveragePooling1D\n",
        "from keras.layers import Activation\n",
        "from keras.optimizers import Adam, SGD, RMSprop\n",
        "from keras import optimizers\n",
        "from keras import regularizers"
      ],
      "execution_count": 1,
      "outputs": [
        {
          "output_type": "stream",
          "text": [
            "Using TensorFlow backend.\n"
          ],
          "name": "stderr"
        }
      ]
    },
    {
      "metadata": {
        "id": "XdekfYsoV2c2",
        "colab_type": "code",
        "outputId": "54dbe688-8c0a-42af-c4a4-73a8a20514a5",
        "colab": {
          "base_uri": "https://localhost:8080/",
          "height": 70
        }
      },
      "cell_type": "code",
      "source": [
        "import nltk\n",
        "nltk.download('stopwords')"
      ],
      "execution_count": 2,
      "outputs": [
        {
          "output_type": "stream",
          "text": [
            "[nltk_data] Downloading package stopwords to /root/nltk_data...\n",
            "[nltk_data]   Package stopwords is already up-to-date!\n"
          ],
          "name": "stdout"
        },
        {
          "output_type": "execute_result",
          "data": {
            "text/plain": [
              "True"
            ]
          },
          "metadata": {
            "tags": []
          },
          "execution_count": 2
        }
      ]
    },
    {
      "metadata": {
        "id": "-TpI0dMJEi6p",
        "colab_type": "code",
        "colab": {}
      },
      "cell_type": "code",
      "source": [
        "!pip install -U -q PyDrive\n",
        " \n",
        "from pydrive.auth import GoogleAuth\n",
        "from pydrive.drive import GoogleDrive\n",
        "from google.colab import auth\n",
        "from oauth2client.client import GoogleCredentials\n",
        " \n",
        "# 1. Authenticate and create the PyDrive client.\n",
        "auth.authenticate_user()\n",
        "gauth = GoogleAuth()\n",
        "gauth.credentials = GoogleCredentials.get_application_default()\n",
        "drive = GoogleDrive(gauth)"
      ],
      "execution_count": 0,
      "outputs": []
    },
    {
      "metadata": {
        "id": "XEfvBz8IEqrO",
        "colab_type": "code",
        "outputId": "03e1f3bc-0268-41b7-8cdf-13d811d963c6",
        "colab": {
          "base_uri": "https://localhost:8080/",
          "height": 390
        }
      },
      "cell_type": "code",
      "source": [
        "file_list = drive.ListFile({'q': \"'1Hx5OP1Yrlh37yYzSMtsv6Ui_fuzOuG04' in parents and trashed=false\"}).GetList()\n",
        "for file1 in file_list:\n",
        "    print('title: %s, id: %s' % (file1['title'], file1['id']))"
      ],
      "execution_count": 4,
      "outputs": [
        {
          "output_type": "stream",
          "text": [
            "title: gru_en_a.ipynb, id: 1qHxV1RB5vy_M889397xa1Ep4kEx_9RIa\n",
            "title: CNN_es_a.ipynb, id: 1UDY2L6Ap8rqV0HtWw9tnLICN4MUD3Nno\n",
            "title: WordEmbedding-biLSTM_es_a.ipynb, id: 14eSqh0xSpcRJXYwU8Qkv9eJaSW_dt3zb\n",
            "title: WordEmbedding-LSTM_es_a.ipynb, id: 16FhVQWB5WvbRXDGkDgsLJWOTqyKwaDwb\n",
            "title: test_es.tsv, id: 1sg7mAwSd4KQD9YXmV_ktcZ_gfygUeJaq\n",
            "title: test_en.tsv, id: 1ofz9ODrpeQMmqwhc8LQK_icexbNdNF7u\n",
            "title: WordEmbedding-GRU_es_a.ipynb, id: 1ahrxlOEINVnCp05yCjmLx8b4v-5SSGL6\n",
            "title: bi_lstm_es_a.ipynb, id: 12E3oKtx2N9XPUqK2XXqxMHmxK2EpYdAA\n",
            "title: lstm_es_a.ipynb, id: 1yZRPqV6WKQ8OeNwcfpQwj0jqiIMehAHK\n",
            "title: gru_es_a.ipynb, id: 11DtYTZbYyKHgTFIMXhy8Y4I7c3_0z_W0\n",
            "title: CNN_en_a.ipynb, id: 19oqoK5aiZrBvFOPN1v89xNcXLevjJY0s\n",
            "title: WordEmbedding-biLSTM_en_a.ipynb, id: 1JOBvoH52NYgevXOGS-K5Cw4ggR4VYWZP\n",
            "title: SelfAttention-biLSTM_en_a.ipynb, id: 1wh-yg27fq8OWwO8Jj-Oy47leYf9ujX7U\n",
            "title: WordEmbedding-LSTM_en_a.ipynb, id: 1S_nrY6BmP5Bd6jTGwGLhhQW_W6ZZK6Tf\n",
            "title: WordEmbedding-GRU_en_a.ipynb, id: 1fcw8EGX2Hdz-tTbz0NDEhZlOHiPvKNsY\n",
            "title: bi_lstm_en_a.ipynb, id: 1O-dGg5mtIxPsI4JY16dcp4ytezzN5NQZ\n",
            "title: lstm_en_a.ipynb, id: 1w3Rq-g3l6u5SsBoXoNcKeciE0YUMLJcP\n",
            "title: dev_es.tsv, id: 1EC9OkjN6PR5RqehcYXoci7dsuXmlMA0f\n",
            "title: train_es.tsv, id: 18OJPw3-c99gT1XgKZRXCkI_7xexnBV3z\n",
            "title: train_en.tsv, id: 1TIjlRkVNIvM8NL3P-4UAmMY6moF3mff0\n",
            "title: dev_en.tsv, id: 1QqOc_95fjvjbw7-uYT37veooqMzfYn-p\n"
          ],
          "name": "stdout"
        }
      ]
    },
    {
      "metadata": {
        "id": "h2hLjMJyE3dR",
        "colab_type": "code",
        "colab": {}
      },
      "cell_type": "code",
      "source": [
        "train_downloaded = drive.CreateFile({'id': '1TIjlRkVNIvM8NL3P-4UAmMY6moF3mff0'})\n",
        "train_downloaded.GetContentFile('train_en.tsv')\n",
        "dev_downloaded = drive.CreateFile({'id': '1QqOc_95fjvjbw7-uYT37veooqMzfYn-p'})\n",
        "dev_downloaded.GetContentFile('dev_en.tsv')\n",
        "test_downloaded = drive.CreateFile({'id': '1ofz9ODrpeQMmqwhc8LQK_icexbNdNF7u'})\n",
        "test_downloaded.GetContentFile('test_en.tsv')"
      ],
      "execution_count": 0,
      "outputs": []
    },
    {
      "metadata": {
        "id": "0s3Dnnk8FF4j",
        "colab_type": "code",
        "colab": {}
      },
      "cell_type": "code",
      "source": [
        "train = pd.read_csv('train_en.tsv', delimiter='\\t',encoding='utf-8')\n",
        "dev = pd.read_csv('dev_en.tsv', delimiter='\\t',encoding='utf-8')\n",
        "#test = pd.read_csv('test.tsv', delimiter='\\t',encoding='utf-8')"
      ],
      "execution_count": 0,
      "outputs": []
    },
    {
      "metadata": {
        "id": "lrslbThJCeSY",
        "colab_type": "code",
        "colab": {}
      },
      "cell_type": "code",
      "source": [
        "# Etapa de pré-processamento\n",
        "\n",
        "def clean_tweets(tweet):\n",
        "    tweet = re.sub('@(\\\\w{1,15})\\b', '', tweet)\n",
        "    tweet = tweet.replace(\"via \", \"\")\n",
        "    tweet = tweet.replace(\"RT \", \"\")\n",
        "    tweet = tweet.lower()\n",
        "    return tweet\n",
        "    \n",
        "def clean_url(tweet):\n",
        "    tweet = re.sub('http\\\\S+', '', tweet, flags=re.MULTILINE)   \n",
        "    return tweet\n",
        "    \n",
        "def remove_stop_words(tweet):\n",
        "    stops = set(stopwords.words(\"english\"))\n",
        "    stops.update(['.',',','\"',\"'\",'?',':',';','(',')','[',']','{','}'])\n",
        "    toks = [tok for tok in tweet if not tok in stops and len(tok) >= 3]\n",
        "    return toks\n",
        "    \n",
        "def stemming_tweets(tweet):\n",
        "    stemmer = SnowballStemmer('english')\n",
        "    stemmed_words = [stemmer.stem(word) for word in tweet]\n",
        "    return stemmed_words\n",
        "\n",
        "def remove_number(tweet):\n",
        "    newTweet = re.sub('\\\\d+', '', tweet)\n",
        "    return newTweet\n",
        "\n",
        "def remove_hashtags(tweet):\n",
        "    result = ''\n",
        "\n",
        "    for word in tweet.split():\n",
        "        if word.startswith('#') or word.startswith('@'):\n",
        "            result += word[1:]\n",
        "            result += ' '\n",
        "        else:\n",
        "            result += word\n",
        "            result += ' '\n",
        "\n",
        "    return result"
      ],
      "execution_count": 0,
      "outputs": []
    },
    {
      "metadata": {
        "id": "QDsnLDRQGl71",
        "colab_type": "code",
        "colab": {}
      },
      "cell_type": "code",
      "source": [
        "def preprocessing(tweet, swords = True, url = True, stemming = True, ctweets = True, number = True, hashtag = True):\n",
        "\n",
        "    if ctweets:\n",
        "        tweet = clean_tweets(tweet)\n",
        "\n",
        "    if url:\n",
        "        tweet = clean_url(tweet)\n",
        "\n",
        "    if hashtag:\n",
        "        tweet = remove_hashtags(tweet)\n",
        "    \n",
        "    twtk = TweetTokenizer(strip_handles=True, reduce_len=True)\n",
        "\n",
        "    if number:\n",
        "        tweet = remove_number(tweet)\n",
        "    \n",
        "    tokens = [w.lower() for w in twtk.tokenize(tweet) if w != \"\" and w is not None]\n",
        "\n",
        "    if swords:\n",
        "        tokens = remove_stop_words(tokens)\n",
        "\n",
        "    if stemming:\n",
        "        tokens = stemming_tweets(tokens)\n",
        "\n",
        "    text = \" \".join(tokens)\n",
        "\n",
        "    return text"
      ],
      "execution_count": 0,
      "outputs": []
    },
    {
      "metadata": {
        "id": "SunHFjyyFLR3",
        "colab_type": "code",
        "colab": {}
      },
      "cell_type": "code",
      "source": [
        "train_text  = train['text'].map(lambda x: preprocessing(x, swords = True, url = True, stemming = True, ctweets = True, number = True, hashtag = True))\n",
        "y_train  = train['HS']\n",
        "id_train = train['id']\n",
        "\n",
        "test_text  = dev['text'].map(lambda x: preprocessing(x, swords = True, url = True, stemming = True, ctweets = True, number = True, hashtag = True))\n",
        "y_test  = dev['HS']\n",
        "id_test = dev['id']\n",
        "\n",
        "data = np.concatenate((train_text, test_text), axis=0)\n",
        "classes = np.concatenate((y_train, y_test), axis=0)"
      ],
      "execution_count": 0,
      "outputs": []
    },
    {
      "metadata": {
        "id": "ROlt3WVoLFeN",
        "colab_type": "code",
        "colab": {}
      },
      "cell_type": "code",
      "source": [
        "max_features = 25000\n",
        "maxlen = 100\n",
        "batch_size = 32\n",
        "epochs = 5\n",
        "\n",
        "# Treina um tokenizaddor nos dados de treino\n",
        "tokenizer = Tokenizer(num_words=max_features)\n",
        "tokenizer.fit_on_texts(data)\n",
        "\n",
        "# Tokeniza os dados\n",
        "X = tokenizer.texts_to_sequences(data)\n",
        "Y = tokenizer.texts_to_sequences(test_text)\n",
        "\n",
        "tweets = sequence.pad_sequences(X, maxlen=maxlen)\n",
        "x_test = sequence.pad_sequences(Y, maxlen=maxlen)"
      ],
      "execution_count": 0,
      "outputs": []
    },
    {
      "metadata": {
        "id": "9SBCS7qnYZGI",
        "colab_type": "code",
        "colab": {}
      },
      "cell_type": "code",
      "source": [
        "x_train, x_val, y_train, y_val = train_test_split(tweets, classes, test_size=0.25, random_state=None)"
      ],
      "execution_count": 0,
      "outputs": []
    },
    {
      "metadata": {
        "id": "pTZGv8lcWGIU",
        "colab_type": "code",
        "outputId": "ec4d0c9e-0b1a-42ca-ac60-c04516cb7bc6",
        "colab": {
          "base_uri": "https://localhost:8080/",
          "height": 550
        }
      },
      "cell_type": "code",
      "source": [
        "# Fase de classificação de sentimentos\n",
        "\n",
        "tweet_input = Input(shape=(maxlen,), dtype='int32')\n",
        "\n",
        "embedding = Embedding(max_features, 256, input_length=maxlen, trainable=True)(tweet_input)\n",
        "\n",
        "gru1 = CuDNNGRU(256, kernel_initializer='random_normal', return_sequences=True)(embedding)\n",
        "\n",
        "gru2 = CuDNNGRU(256)(gru1)\n",
        "\n",
        "dens = Dense(256, activation='relu')(gru2)\n",
        "\n",
        "output = Dense(1, activation='sigmoid')(dens)\n",
        "\n",
        "model = Model(inputs=tweet_input, outputs=output)\n",
        "\n",
        "#opt = Adam(lr=0.001, beta_1=0.9, beta_2=0.9)\n",
        "#opt = SGD(lr=0.01, momentum=0.0, decay=0.0, nesterov=False)\n",
        "opt = RMSprop(lr=0.001, rho=0.9, epsilon=None, decay=0.01)\n",
        "\n",
        "model.compile(optimizer=opt, loss='binary_crossentropy', metrics=['accuracy'])\n",
        "\n",
        "model.summary()\n",
        "\n",
        "model.fit(x_train, y_train, batch_size=batch_size, epochs=epochs, shuffle=True, validation_data=(x_val, y_val))\n",
        "\n",
        "y_pred = (model.predict(x_test, batch_size=batch_size) > .5).astype(int)"
      ],
      "execution_count": 12,
      "outputs": [
        {
          "output_type": "stream",
          "text": [
            "_________________________________________________________________\n",
            "Layer (type)                 Output Shape              Param #   \n",
            "=================================================================\n",
            "input_1 (InputLayer)         (None, 100)               0         \n",
            "_________________________________________________________________\n",
            "embedding_1 (Embedding)      (None, 100, 256)          6400000   \n",
            "_________________________________________________________________\n",
            "cu_dnngru_1 (CuDNNGRU)       (None, 100, 256)          394752    \n",
            "_________________________________________________________________\n",
            "cu_dnngru_2 (CuDNNGRU)       (None, 256)               394752    \n",
            "_________________________________________________________________\n",
            "dense_1 (Dense)              (None, 256)               65792     \n",
            "_________________________________________________________________\n",
            "dense_2 (Dense)              (None, 1)                 257       \n",
            "=================================================================\n",
            "Total params: 7,255,553\n",
            "Trainable params: 7,255,553\n",
            "Non-trainable params: 0\n",
            "_________________________________________________________________\n",
            "Train on 7500 samples, validate on 2500 samples\n",
            "Epoch 1/5\n",
            "7500/7500 [==============================] - 16s 2ms/step - loss: 0.5322 - acc: 0.7323 - val_loss: 0.4871 - val_acc: 0.7772\n",
            "Epoch 2/5\n",
            "7500/7500 [==============================] - 14s 2ms/step - loss: 0.3840 - acc: 0.8272 - val_loss: 0.5320 - val_acc: 0.7328\n",
            "Epoch 3/5\n",
            "7500/7500 [==============================] - 14s 2ms/step - loss: 0.3310 - acc: 0.8577 - val_loss: 0.5224 - val_acc: 0.7700\n",
            "Epoch 4/5\n",
            "7500/7500 [==============================] - 14s 2ms/step - loss: 0.2930 - acc: 0.8775 - val_loss: 0.5248 - val_acc: 0.7584\n",
            "Epoch 5/5\n",
            "7500/7500 [==============================] - 14s 2ms/step - loss: 0.2643 - acc: 0.8905 - val_loss: 0.5522 - val_acc: 0.7564\n"
          ],
          "name": "stdout"
        }
      ]
    },
    {
      "metadata": {
        "id": "rx8QHLaNWgdn",
        "colab_type": "code",
        "outputId": "79639c1f-6796-466d-a92d-2add59028662",
        "colab": {
          "base_uri": "https://localhost:8080/",
          "height": 87
        }
      },
      "cell_type": "code",
      "source": [
        "from sklearn.metrics import f1_score, precision_score, accuracy_score, recall_score\n",
        "\n",
        "print(\"F1.........: %f\" %(f1_score(y_test, y_pred, average=\"macro\")))\n",
        "print(\"Precision..: %f\" %(precision_score(y_test, y_pred, average=\"macro\")))\n",
        "print(\"Recall.....: %f\" %(recall_score(y_test, y_pred, average=\"macro\")))\n",
        "print(\"Accuracy...: %f\" %(accuracy_score(y_test, y_pred)))"
      ],
      "execution_count": 13,
      "outputs": [
        {
          "output_type": "stream",
          "text": [
            "F1.........: 0.846904\n",
            "Precision..: 0.845250\n",
            "Recall.....: 0.850037\n",
            "Accuracy...: 0.849000\n"
          ],
          "name": "stdout"
        }
      ]
    },
    {
      "metadata": {
        "id": "4DpgoxpT88nK",
        "colab_type": "code",
        "outputId": "06132f30-0bbe-4ea7-e83e-98ccbc2c5330",
        "colab": {
          "base_uri": "https://localhost:8080/",
          "height": 34
        }
      },
      "cell_type": "code",
      "source": [
        "output = []\n",
        "for array in y_pred:\n",
        "    output.append(array[0])\n",
        "print(len(output), len(id_test))"
      ],
      "execution_count": 14,
      "outputs": [
        {
          "output_type": "stream",
          "text": [
            "1000 1000\n"
          ],
          "name": "stdout"
        }
      ]
    },
    {
      "metadata": {
        "id": "2IJCgb0J9Aza",
        "colab_type": "code",
        "colab": {}
      },
      "cell_type": "code",
      "source": [
        "from google.colab import files\n",
        "\n",
        "with open(\"en_a.tsv\", \"w\") as file:\n",
        "    for i in range(len(y_pred)):\n",
        "        file.write(str(id_test[i]))\n",
        "        file.write('\\t')\n",
        "        file.write(str(output[i]))\n",
        "        file.write('\\n')\n",
        "\n",
        "files.download('en_a.tsv')"
      ],
      "execution_count": 0,
      "outputs": []
    }
  ]
}